{
 "cells": [
  {
   "cell_type": "code",
   "execution_count": 1,
   "metadata": {
    "collapsed": false
   },
   "outputs": [
    {
     "ename": "SyntaxError",
     "evalue": "Missing parentheses in call to 'print' (audioTrainTest.py, line 24)",
     "output_type": "error",
     "traceback": [
      "\u001b[0;36m  File \u001b[0;32m\"/home/ken/Documents/tugas-pengenalan-pola-suara/pyAudioAnalysis/audioTrainTest.py\"\u001b[0;36m, line \u001b[0;32m24\u001b[0m\n\u001b[0;31m    print 'You pressed Ctrl+C! - EXIT'\u001b[0m\n\u001b[0m                                     ^\u001b[0m\n\u001b[0;31mSyntaxError\u001b[0m\u001b[0;31m:\u001b[0m Missing parentheses in call to 'print'\n"
     ]
    }
   ],
   "source": [
    "from pyAudioAnalysis import audioTrainTest as aT\n",
    "import numpy as np"
   ]
  },
  {
   "cell_type": "code",
   "execution_count": null,
   "metadata": {
    "collapsed": false
   },
   "outputs": [],
   "source": [
    "from pyAudioAnalysis import audioTrainTest as aT\n",
    "aT.featureAndTrain([\"classifierData/cat\",\"classifierData/duck\"], 1.0, 1.0, aT.shortTermWindow, aT.shortTermStep, \"svm\", \"svmModel\", False)\n",
    "\n"
   ]
  },
  {
   "cell_type": "code",
   "execution_count": null,
   "metadata": {
    "collapsed": false
   },
   "outputs": [],
   "source": [
    "test1 = aT.fileClassification(\"data/cat1.wav\", \"svmModel\",\"svm\")\n",
    "test2 = aT.fileClassification(\"data/cat2.wav\", \"svmModel\",\"svm\")\n",
    "test3 = aT.fileClassification(\"data/horse1.wav\", \"svmModel\",\"svm\")"
   ]
  },
  {
   "cell_type": "code",
   "execution_count": null,
   "metadata": {
    "collapsed": false
   },
   "outputs": [],
   "source": [
    "print(\"cat1.wav= \" + test1[2][np.argmax(test1[1])])\n",
    "print(\"cat2.wav= \" + test2[2][np.argmax(test2[1])])\n",
    "print(\"horse1.wav= \" + test3[2][np.argmax(test3[1])])\n",
    "\n",
    "\n"
   ]
  },
  {
   "cell_type": "code",
   "execution_count": null,
   "metadata": {
    "collapsed": false
   },
   "outputs": [],
   "source": []
  },
  {
   "cell_type": "code",
   "execution_count": null,
   "metadata": {
    "collapsed": true
   },
   "outputs": [],
   "source": []
  }
 ],
 "metadata": {
  "anaconda-cloud": {},
  "kernelspec": {
   "display_name": "Python [default]",
   "language": "python",
   "name": "python3"
  },
  "language_info": {
   "codemirror_mode": {
    "name": "ipython",
    "version": 3
   },
   "file_extension": ".py",
   "mimetype": "text/x-python",
   "name": "python",
   "nbconvert_exporter": "python",
   "pygments_lexer": "ipython3",
   "version": "3.5.2"
  }
 },
 "nbformat": 4,
 "nbformat_minor": 0
}
